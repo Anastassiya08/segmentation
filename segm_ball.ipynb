{
 "cells": [
  {
   "cell_type": "code",
   "execution_count": 5,
   "metadata": {},
   "outputs": [
    {
     "name": "stderr",
     "output_type": "stream",
     "text": [
      "C:\\Distr\\Anaconda\\lib\\site-packages\\ipykernel_launcher.py:17: DeprecationWarning: `imread` is deprecated!\n",
      "`imread` is deprecated in SciPy 1.0.0, and will be removed in 1.2.0.\n",
      "Use ``imageio.imread`` instead.\n"
     ]
    },
    {
     "name": "stdout",
     "output_type": "stream",
     "text": [
      "Loaded image of shape 160, 240\n"
     ]
    },
    {
     "name": "stderr",
     "output_type": "stream",
     "text": [
      "C:\\Distr\\Anaconda\\lib\\site-packages\\ipykernel_launcher.py:68: DeprecationWarning: `imsave` is deprecated!\n",
      "`imsave` is deprecated in SciPy 1.0.0, and will be removed in 1.2.0.\n",
      "Use ``imageio.imwrite`` instead.\n"
     ]
    }
   ],
   "source": [
    "from scipy import misc\n",
    "\n",
    "IMAGE = 'ball.jpg'\n",
    "\n",
    "def dist(x, y):\n",
    "    return sum((x - y) ** 2)\n",
    "\n",
    "def flip(i, j, A, B):\n",
    "    if (i, j) in A:\n",
    "        A.remove((i, j))\n",
    "        B.add((i, j))\n",
    "    else:\n",
    "        B.remove((i, j))\n",
    "        A.add((i, j))\n",
    "\n",
    "def main():\n",
    "    image = misc.imread(IMAGE)\n",
    "    dim_x, dim_y, colors = image.shape\n",
    "    print(\"Loaded image of shape {x}, {y}\".format(x=dim_x, y=dim_y))\n",
    "    \n",
    "    curr2 = [0, 255, 0]\n",
    "    curr1 = [255, 0, 0]\n",
    "    last2 = [255, 0, 0]\n",
    "    last1 = [0, 255, 0]\n",
    "    \n",
    "    dim_x, dim_y, colors = image.shape\n",
    "    while (curr1 != last1) or (curr2 != last2):\n",
    "        A = set()\n",
    "        B = {(i, j) for i in range(dim_x) for j in range(dim_y)}\n",
    "        for i in range(dim_x):\n",
    "            for j in range(dim_y):\n",
    "                if (dist(image[i, j], curr1) < dist(image[i, j], curr2)):\n",
    "                    flip(i, j, A, B)\n",
    "        x = [0, 0, 0]\n",
    "        for el in A:\n",
    "            c_a = image[el[0], el[1]]\n",
    "            x[0] += c_a[0]\n",
    "            x[1] += c_a[1]\n",
    "            x[2] += c_a[2]        \n",
    "        x[0] /= len(A)\n",
    "        x[1] /= len(A)\n",
    "        x[2] /= len(A)\n",
    "        y = [0, 0, 0]\n",
    "        for el in B:\n",
    "            c_b = image[el[0], el[1]]\n",
    "            y[0] += c_b[0]\n",
    "            y[1] += c_b[1]\n",
    "            y[2] += c_b[2]        \n",
    "        y[0] /= len(B)\n",
    "        y[1] /= len(B)\n",
    "        y[2] /= len(B)\n",
    "        last1 = curr1\n",
    "        last2 = curr2\n",
    "        curr1 = x\n",
    "        curr2 = y\n",
    "\n",
    "    for i in range(dim_x):\n",
    "        for j in range(dim_y):\n",
    "            if (i, j) in A:\n",
    "                image[i, j, 0] = min(255, image[i, j, 0] + 100)\n",
    "                image[i, j, 1] = image[i, j, 1] / 3\n",
    "                image[i, j, 2] = image[i, j, 2] / 3\n",
    "            elif (i,j) in B:\n",
    "                image[i, j, 0] = image[i, j, 0] / 3\n",
    "                image[i, j, 1] = min(255, image[i, j, 1] + 100)\n",
    "                image[i, j, 2] = image[i, j, 2] / 3\n",
    "\n",
    "    misc.imsave('out_ball.png', image)\n",
    "\n",
    "if __name__ == '__main__':\n",
    "    main()\n"
   ]
  },
  {
   "cell_type": "code",
   "execution_count": null,
   "metadata": {},
   "outputs": [],
   "source": []
  }
 ],
 "metadata": {
  "kernelspec": {
   "display_name": "Python 3",
   "language": "python",
   "name": "python3"
  },
  "language_info": {
   "codemirror_mode": {
    "name": "ipython",
    "version": 3
   },
   "file_extension": ".py",
   "mimetype": "text/x-python",
   "name": "python",
   "nbconvert_exporter": "python",
   "pygments_lexer": "ipython3",
   "version": "3.7.0"
  }
 },
 "nbformat": 4,
 "nbformat_minor": 2
}
